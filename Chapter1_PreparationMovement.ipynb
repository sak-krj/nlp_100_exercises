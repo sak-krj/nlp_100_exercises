{
 "cells": [
  {
   "cell_type": "code",
   "execution_count": 4,
   "metadata": {},
   "outputs": [
    {
     "name": "stdout",
     "output_type": "stream",
     "text": [
      "desserts\n"
     ]
    }
   ],
   "source": [
    "#00\n",
    "str = \"stressed\"\n",
    "print(str[::-1])"
   ]
  },
  {
   "cell_type": "code",
   "execution_count": 5,
   "metadata": {},
   "outputs": [
    {
     "name": "stdout",
     "output_type": "stream",
     "text": [
      "タクシー\n"
     ]
    }
   ],
   "source": [
    "#01\n",
    "str = \"パタトクカシーー\"\n",
    "print(str[1::2])"
   ]
  },
  {
   "cell_type": "code",
   "execution_count": 6,
   "metadata": {},
   "outputs": [
    {
     "name": "stdout",
     "output_type": "stream",
     "text": [
      "パタトクカシーー\n"
     ]
    }
   ],
   "source": [
    "#02\n",
    "s1 = \"パトカー\"\n",
    "s2 = \"タクシー\"\n",
    "s3 = \"\"\n",
    "for i in range(4):\n",
    "    s3 += s1[i] + s2[i]\n",
    "print(s3)"
   ]
  },
  {
   "cell_type": "code",
   "execution_count": 17,
   "metadata": {},
   "outputs": [
    {
     "name": "stdout",
     "output_type": "stream",
     "text": [
      "[3, 1, 4, 1, 6, 9, 2, 7, 5, 3, 5, 8, 9, 7, 10]\n"
     ]
    }
   ],
   "source": [
    "#03\n",
    "text = \"Now I need a drink, alcoholic of course, after the heavy lectures involving quantum mechanics.\"\n",
    "\n",
    "text.replace(\".\",\" \")\n",
    "text.replace(\",\",\" \")\n",
    "ans = [len(word) for word in text.split()]\n",
    "\n",
    "print(ans)"
   ]
  },
  {
   "cell_type": "code",
   "execution_count": 34,
   "metadata": {},
   "outputs": [
    {
     "name": "stdout",
     "output_type": "stream",
     "text": [
      "{'H': 1, 'He': 2, 'Li': 3, 'Be': 4, 'B': 5, 'C': 6, 'N': 7, 'O': 8, 'F': 9, 'Ne': 10, 'Na': 11, 'Mi': 12, 'Al': 13, 'Si': 14, 'P': 15, 'S': 16, 'Cl': 17, 'Ar': 18, 'K': 19, 'Ca': 20}\n"
     ]
    }
   ],
   "source": [
    "#04\n",
    "text = \"Hi He Lied Because Boron Could Not Oxidize Fluorine. New Nations Might Also Sign Peace Security Clause. Arthur King Can.\"\n",
    "one = [1, 5, 6, 7, 8, 9, 15, 16, 19]\n",
    "text.split()\n",
    "ans = {}\n",
    "for index, word in enumerate(text.split(),start=1):\n",
    "    i = 1 if(index in one) else 2 \n",
    "    ans[word[0:i]] = index\n",
    "print(ans)"
   ]
  },
  {
   "cell_type": "code",
   "execution_count": 5,
   "metadata": {},
   "outputs": [
    {
     "name": "stdout",
     "output_type": "stream",
     "text": [
      "['I ', ' a', 'am', 'm ', ' N', 'NL', 'LP', 'Pe', 'er']\n",
      "['I am', 'am NLPer']\n"
     ]
    }
   ],
   "source": [
    "#05\n",
    "text = \"I am NLPer\"\n",
    "\n",
    "def _n_gram(target, n):\n",
    "    return [target[i:i+n] for i in range(0, len(target) - (n -1))]\n",
    "\n",
    "def word_n_gram(target, n):\n",
    "    return [\" \".join(s) for s in _n_gram(target.split(), n)]\n",
    "\n",
    "def char_n_gram(target, n):\n",
    "    return [\"\".join(s) for s in _n_gram(list(target), n)]\n",
    "\n",
    "char_bi_gram = char_n_gram(text, 2)\n",
    "word_bi_gram = word_n_gram(text, 2)\n",
    "print(char_bi_gram)\n",
    "print(word_bi_gram)"
   ]
  },
  {
   "cell_type": "code",
   "execution_count": 13,
   "metadata": {},
   "outputs": [
    {
     "name": "stdout",
     "output_type": "stream",
     "text": [
      "{'pa', 'ag', 'ph', 'se', 'di', 'ar', 'is', 'ad', 'ap', 'gr', 'ra'}\n",
      "{'pa', 'ar', 'ap', 'ra'}\n",
      "{'is', 'ad', 'se', 'di'}\n",
      "True\n",
      "False\n"
     ]
    }
   ],
   "source": [
    "#06\n",
    "text1 = \"paraparaparadise\"\n",
    "text2 = \"paragraph\"\n",
    "\n",
    "X = set(char_n_gram(text1, 2))\n",
    "Y = set(char_n_gram(text2, 2))\n",
    "\n",
    "xy_union = X | Y\n",
    "print(xy_union)\n",
    "xy_intersection = X & Y\n",
    "print(xy_intersection)\n",
    "xy_difference = X - Y\n",
    "print(xy_difference)\n",
    "x_contains_se = \"se\" in X\n",
    "print(x_contains_se)\n",
    "y_contains_se = \"se\" in Y\n",
    "print(y_contains_se)"
   ]
  },
  {
   "cell_type": "code",
   "execution_count": 15,
   "metadata": {},
   "outputs": [
    {
     "name": "stdout",
     "output_type": "stream",
     "text": [
      "12時の気温は22.4\n"
     ]
    }
   ],
   "source": [
    "#07\n",
    "def show_string(x, y, z):\n",
    "    print(\"{}時の{}は{}\".format(x, y, z))\n",
    "    \n",
    "x = 12\n",
    "y = \"気温\"\n",
    "z = 22.4\n",
    "show_string(x, y, z)"
   ]
  },
  {
   "cell_type": "code",
   "execution_count": 26,
   "metadata": {},
   "outputs": [
    {
     "name": "stdout",
     "output_type": "stream",
     "text": [
      "sltv\n"
     ]
    }
   ],
   "source": [
    "#08\n",
    "def cipher(text):\n",
    "    char_list = [chr(219-ord(c)) if(c.isalpha() and c.islower()) else c for c in text]\n",
    "    return (\"\".join(char_list))\n",
    "\n",
    " = cipher(\"hoge\")\n",
    "print(string)"
   ]
  },
  {
   "cell_type": "code",
   "execution_count": null,
   "metadata": {},
   "outputs": [],
   "source": []
  }
 ],
 "metadata": {
  "kernelspec": {
   "display_name": "Python 3",
   "language": "python",
   "name": "python3"
  },
  "language_info": {
   "codemirror_mode": {
    "name": "ipython",
    "version": 3
   },
   "file_extension": ".py",
   "mimetype": "text/x-python",
   "name": "python",
   "nbconvert_exporter": "python",
   "pygments_lexer": "ipython3",
   "version": "3.7.3"
  }
 },
 "nbformat": 4,
 "nbformat_minor": 2
}
